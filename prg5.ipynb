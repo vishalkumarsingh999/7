{
 "cells": [
  {
   "cell_type": "markdown",
   "metadata": {
    "id": "4UFqTj32k4I5"
   },
   "source": [
    "**5. Build an Artificial Neural Network by implementing the Backpropagation algorithm and test the same using appropriate data sets.**"
   ]
  },
  {
   "cell_type": "code",
   "execution_count": 1,
   "metadata": {
    "executionInfo": {
     "elapsed": 27,
     "status": "ok",
     "timestamp": 1643103681219,
     "user": {
      "displayName": "GURURAJ K L",
      "photoUrl": "https://lh3.googleusercontent.com/a-/AOh14GgPl8AGtnL7ThgsWMfI1-6xNp2THNU6f4EpsU77=s64",
      "userId": "08915021865118226802"
     },
     "user_tz": -330
    },
    "id": "AA6DxM5TPhFa"
   },
   "outputs": [],
   "source": [
    "import numpy as np"
   ]
  },
  {
   "cell_type": "code",
   "execution_count": 2,
   "metadata": {
    "executionInfo": {
     "elapsed": 25,
     "status": "ok",
     "timestamp": 1643103681220,
     "user": {
      "displayName": "GURURAJ K L",
      "photoUrl": "https://lh3.googleusercontent.com/a-/AOh14GgPl8AGtnL7ThgsWMfI1-6xNp2THNU6f4EpsU77=s64",
      "userId": "08915021865118226802"
     },
     "user_tz": -330
    },
    "id": "lBll6xSVP6Vk"
   },
   "outputs": [],
   "source": [
    "x = np.array(([2,9], [1,5], [3,6]), dtype = float)\n",
    "y = np.array(([92], [86], [89]), dtype = float)\n",
    "x = x / np.amax(x, axis = 0)\n",
    "y = y / 100"
   ]
  },
  {
   "cell_type": "code",
   "execution_count": 3,
   "metadata": {
    "executionInfo": {
     "elapsed": 25,
     "status": "ok",
     "timestamp": 1643103681221,
     "user": {
      "displayName": "GURURAJ K L",
      "photoUrl": "https://lh3.googleusercontent.com/a-/AOh14GgPl8AGtnL7ThgsWMfI1-6xNp2THNU6f4EpsU77=s64",
      "userId": "08915021865118226802"
     },
     "user_tz": -330
    },
    "id": "W_X1c62cQLov"
   },
   "outputs": [],
   "source": [
    "def sigmoid(x):\n",
    " return (1 / (1 + np.exp(-x)))"
   ]
  },
  {
   "cell_type": "code",
   "execution_count": 4,
   "metadata": {
    "executionInfo": {
     "elapsed": 24,
     "status": "ok",
     "timestamp": 1643103681222,
     "user": {
      "displayName": "GURURAJ K L",
      "photoUrl": "https://lh3.googleusercontent.com/a-/AOh14GgPl8AGtnL7ThgsWMfI1-6xNp2THNU6f4EpsU77=s64",
      "userId": "08915021865118226802"
     },
     "user_tz": -330
    },
    "id": "F2pkKtPtQOk3"
   },
   "outputs": [],
   "source": [
    "def derivatives_sigmoid(x):\n",
    " return x * (1-x)"
   ]
  },
  {
   "cell_type": "code",
   "execution_count": 5,
   "metadata": {
    "executionInfo": {
     "elapsed": 24,
     "status": "ok",
     "timestamp": 1643103681223,
     "user": {
      "displayName": "GURURAJ K L",
      "photoUrl": "https://lh3.googleusercontent.com/a-/AOh14GgPl8AGtnL7ThgsWMfI1-6xNp2THNU6f4EpsU77=s64",
      "userId": "08915021865118226802"
     },
     "user_tz": -330
    },
    "id": "Yo3O1EZMQQ4A"
   },
   "outputs": [],
   "source": [
    "epoch = 7000\n",
    "lr = 0.1\n",
    "\n",
    "inputlayer_neuron = 2\n",
    "hiddenlayer_neuron = 3\n",
    "output_neuron = 1\n",
    "\n",
    "wh = np.random.uniform(size = (inputlayer_neuron, hiddenlayer_neuron))\n",
    "bh = np.random.uniform(size = (1, hiddenlayer_neuron))\n",
    "wout = np.random.uniform(size = (hiddenlayer_neuron, output_neuron))\n",
    "bout = np.random.uniform(size = (1, output_neuron))"
   ]
  },
  {
   "cell_type": "code",
   "execution_count": 6,
   "metadata": {
    "executionInfo": {
     "elapsed": 24,
     "status": "ok",
     "timestamp": 1643103681224,
     "user": {
      "displayName": "GURURAJ K L",
      "photoUrl": "https://lh3.googleusercontent.com/a-/AOh14GgPl8AGtnL7ThgsWMfI1-6xNp2THNU6f4EpsU77=s64",
      "userId": "08915021865118226802"
     },
     "user_tz": -330
    },
    "id": "9W-5MzjAQWBD"
   },
   "outputs": [],
   "source": [
    "for i in range(epoch):\n",
    "    hinp1 = np.dot(x, wh)\n",
    "    hinp = hinp1 + bh\n",
    "    hlayer_act = sigmoid(hinp)\n",
    "    outinp1 = np.dot(hlayer_act, wout)\n",
    "    outinp = outinp1 + bout\n",
    "    output = sigmoid(outinp)\n",
    "\n",
    "    EO = y - output\n",
    "    outgrad = derivatives_sigmoid(output)\n",
    "    d_output = EO * outgrad\n",
    "\n",
    "    EH = d_output.dot(wout.T)\n",
    "    hiddengrad = derivatives_sigmoid(hlayer_act)\n",
    "    d_hiddenlayer = EH * hiddengrad\n",
    "    \n",
    "    wout += hlayer_act.T.dot(d_output * lr)\n",
    "    wh += x.T.dot(d_hiddenlayer) * lr"
   ]
  },
  {
   "cell_type": "code",
   "execution_count": 11,
   "metadata": {
    "colab": {
     "base_uri": "https://localhost:8080/"
    },
    "executionInfo": {
     "elapsed": 14,
     "status": "ok",
     "timestamp": 1643104772989,
     "user": {
      "displayName": "GURURAJ K L",
      "photoUrl": "https://lh3.googleusercontent.com/a-/AOh14GgPl8AGtnL7ThgsWMfI1-6xNp2THNU6f4EpsU77=s64",
      "userId": "08915021865118226802"
     },
     "user_tz": -330
    },
    "id": "cbuxOpJfQmoY",
    "outputId": "a76ed970-f520-4483-8f9b-365382b0f9ad"
   },
   "outputs": [
    {
     "name": "stdout",
     "output_type": "stream",
     "text": [
      "Input:\n",
      " [[0.66666667 1.        ]\n",
      " [0.33333333 0.55555556]\n",
      " [1.         0.66666667]]\n",
      "\n",
      "Actual Output:\n",
      " [[0.92]\n",
      " [0.86]\n",
      " [0.89]]\n",
      "\n",
      "Predicted Output:\n",
      " [[0.89455614]\n",
      " [0.88144674]\n",
      " [0.89394287]]\n"
     ]
    }
   ],
   "source": [
    "print(\"Input:\\n\", str(x))\n",
    "print(\"\\nActual Output:\\n\", str(y))\n",
    "print(\"\\nPredicted Output:\\n\", output)"
   ]
  }
 ],
 "metadata": {
  "colab": {
   "authorship_tag": "ABX9TyMNFzpOgzUbniFqvlE74Vvj",
   "collapsed_sections": [],
   "name": "Program 5.ipynb",
   "provenance": []
  },
  "kernelspec": {
   "display_name": "Python 3 (ipykernel)",
   "language": "python",
   "name": "python3"
  },
  "language_info": {
   "codemirror_mode": {
    "name": "ipython",
    "version": 3
   },
   "file_extension": ".py",
   "mimetype": "text/x-python",
   "name": "python",
   "nbconvert_exporter": "python",
   "pygments_lexer": "ipython3",
   "version": "3.9.7"
  }
 },
 "nbformat": 4,
 "nbformat_minor": 1
}
