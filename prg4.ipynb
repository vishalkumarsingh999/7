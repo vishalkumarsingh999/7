{
 "cells": [
  {
   "cell_type": "markdown",
   "metadata": {
    "id": "gfn1OPoPkpfo"
   },
   "source": [
    "**4. Write a program to demonstrate the working of the decision tree based ID3 algorithm. Use an appropriate data set for building the decision tree and apply this knowledge to classify a new sample.**"
   ]
  },
  {
   "cell_type": "code",
   "execution_count": 1,
   "metadata": {
    "executionInfo": {
     "elapsed": 21,
     "status": "ok",
     "timestamp": 1643093824697,
     "user": {
      "displayName": "GURURAJ K L",
      "photoUrl": "https://lh3.googleusercontent.com/a-/AOh14GgPl8AGtnL7ThgsWMfI1-6xNp2THNU6f4EpsU77=s64",
      "userId": "08915021865118226802"
     },
     "user_tz": -330
    },
    "id": "CiP30Lk530u8"
   },
   "outputs": [],
   "source": [
    "import numpy as np\n",
    "import math\n",
    "import csv"
   ]
  },
  {
   "cell_type": "code",
   "execution_count": 2,
   "metadata": {
    "executionInfo": {
     "elapsed": 18,
     "status": "ok",
     "timestamp": 1643093824698,
     "user": {
      "displayName": "GURURAJ K L",
      "photoUrl": "https://lh3.googleusercontent.com/a-/AOh14GgPl8AGtnL7ThgsWMfI1-6xNp2THNU6f4EpsU77=s64",
      "userId": "08915021865118226802"
     },
     "user_tz": -330
    },
    "id": "vpJQbOVd31Z9"
   },
   "outputs": [],
   "source": [
    "class Node:\n",
    "    def __init__(self, attribute):\n",
    "        self.attribute = attribute\n",
    "        self.children = []\n",
    "        self.answer = \"\""
   ]
  },
  {
   "cell_type": "code",
   "execution_count": 3,
   "metadata": {
    "executionInfo": {
     "elapsed": 17,
     "status": "ok",
     "timestamp": 1643093824699,
     "user": {
      "displayName": "GURURAJ K L",
      "photoUrl": "https://lh3.googleusercontent.com/a-/AOh14GgPl8AGtnL7ThgsWMfI1-6xNp2THNU6f4EpsU77=s64",
      "userId": "08915021865118226802"
     },
     "user_tz": -330
    },
    "id": "llkS-0SO37bR"
   },
   "outputs": [],
   "source": [
    "def sub(data, col, delete):\n",
    "    dict = {}\n",
    "    items = np.unique(data[:, col])\n",
    "    count = np.zeros((items.shape[0], 1), dtype = np.int32)\n",
    "    for x in range(items.shape[0]):\n",
    "        for y in range(data.shape[0]):\n",
    "            if data[y, col] == items[x]:\n",
    "                count[x] += 1\n",
    "                \n",
    "    for x in range(items.shape[0]):\n",
    "        dict[items[x]] = np.empty((int(count[x]), data.shape[1]), dtype = '|S32')\n",
    "        pos = 0\n",
    "        for y in range(data.shape[0]):\n",
    "            if data[y,col] == items[x]:\n",
    "                dict[items[x]][pos] = data[y]\n",
    "                pos += 1\n",
    "        if delete:\n",
    "            dict[items[x]] = np.delete(dict[items[x]], col, 1)\n",
    "    return items, dict"
   ]
  },
  {
   "cell_type": "code",
   "execution_count": 4,
   "metadata": {
    "executionInfo": {
     "elapsed": 17,
     "status": "ok",
     "timestamp": 1643093824701,
     "user": {
      "displayName": "GURURAJ K L",
      "photoUrl": "https://lh3.googleusercontent.com/a-/AOh14GgPl8AGtnL7ThgsWMfI1-6xNp2THNU6f4EpsU77=s64",
      "userId": "08915021865118226802"
     },
     "user_tz": -330
    },
    "id": "ZTQNM6nI4AyG"
   },
   "outputs": [],
   "source": [
    "def entropy(s):\n",
    "    items = np.unique(s)\n",
    "    if items.size == 1:\n",
    "        return 0\n",
    "    counts = np.zeros((items.shape[0], 1))\n",
    "    sums = 0\n",
    "    for x in range(items.shape[0]):\n",
    "        counts[x] = sum(s == items[x]) / (s.size * 1.0)\n",
    "        \n",
    "    for count in counts:\n",
    "        sums += -1 * count * math.log(count, 2)\n",
    "        \n",
    "    return sums"
   ]
  },
  {
   "cell_type": "code",
   "execution_count": 5,
   "metadata": {
    "executionInfo": {
     "elapsed": 16,
     "status": "ok",
     "timestamp": 1643093824701,
     "user": {
      "displayName": "GURURAJ K L",
      "photoUrl": "https://lh3.googleusercontent.com/a-/AOh14GgPl8AGtnL7ThgsWMfI1-6xNp2THNU6f4EpsU77=s64",
      "userId": "08915021865118226802"
     },
     "user_tz": -330
    },
    "id": "MeMTwH1a4Ez0"
   },
   "outputs": [],
   "source": [
    "def gain(data, col):\n",
    "    items, dict = sub(data, col, delete = False)\n",
    "    total_size = data.shape[0]\n",
    "    entropies = np.zeros((items.shape[0], 1))\n",
    "    intrinsic = np.zeros((items.shape[0], 1))\n",
    "\n",
    "    for x in range((items.shape[0])):\n",
    "        ratio = dict[items[x]].shape[0] / (total_size * 1.0)\n",
    "        entropies[x] = ratio * entropy(dict[items[x]][:, -1])\n",
    "        intrinsic[x] = ratio * math.log(ratio, 2)\n",
    "\n",
    "    total_entropy = entropy(data[:, -1])    \n",
    "    iv = -1 * sum(intrinsic)\n",
    "\n",
    "    for x in range(entropies.shape[0]):\n",
    "        total_entropy -= entropies[x]\n",
    "\n",
    "    return (total_entropy / iv)"
   ]
  },
  {
   "cell_type": "code",
   "execution_count": 6,
   "metadata": {
    "executionInfo": {
     "elapsed": 16,
     "status": "ok",
     "timestamp": 1643093824702,
     "user": {
      "displayName": "GURURAJ K L",
      "photoUrl": "https://lh3.googleusercontent.com/a-/AOh14GgPl8AGtnL7ThgsWMfI1-6xNp2THNU6f4EpsU77=s64",
      "userId": "08915021865118226802"
     },
     "user_tz": -330
    },
    "id": "iA_BgqSE4JCh"
   },
   "outputs": [],
   "source": [
    "def create(data, metadata):\n",
    "    if(np.unique(data[:, -1])).shape[0] == 1:\n",
    "        node = Node(\"\")\n",
    "        node.answer = np.unique(data[:, -1])[0]\n",
    "        return node\n",
    "    \n",
    "    gains = np.zeros((data.shape[1] -1, 1))\n",
    "    for col in range(data.shape[-1] -1):\n",
    "        gains[col] = gain(data, col)\n",
    "        \n",
    "    split = np.argmax(gains)    \n",
    "    node = Node(metadata[split])\n",
    "    metadata = np.delete(metadata, split, 0)\n",
    "    items, dict = sub(data, split, delete = True)\n",
    "    \n",
    "    for x in range(items.shape[0]):\n",
    "        child = create(dict[items[x]], metadata)\n",
    "        node.children.append((items[x], child))\n",
    "    return node"
   ]
  },
  {
   "cell_type": "code",
   "execution_count": 7,
   "metadata": {
    "executionInfo": {
     "elapsed": 614,
     "status": "ok",
     "timestamp": 1643093825301,
     "user": {
      "displayName": "GURURAJ K L",
      "photoUrl": "https://lh3.googleusercontent.com/a-/AOh14GgPl8AGtnL7ThgsWMfI1-6xNp2THNU6f4EpsU77=s64",
      "userId": "08915021865118226802"
     },
     "user_tz": -330
    },
    "id": "3Nn9yeCh4Mzc"
   },
   "outputs": [],
   "source": [
    "def empty(size):\n",
    "    s = \"\"\n",
    "    for x in range(size):\n",
    "        s += \"\"\n",
    "    return s"
   ]
  },
  {
   "cell_type": "code",
   "execution_count": 8,
   "metadata": {
    "executionInfo": {
     "elapsed": 18,
     "status": "ok",
     "timestamp": 1643093825303,
     "user": {
      "displayName": "GURURAJ K L",
      "photoUrl": "https://lh3.googleusercontent.com/a-/AOh14GgPl8AGtnL7ThgsWMfI1-6xNp2THNU6f4EpsU77=s64",
      "userId": "08915021865118226802"
     },
     "user_tz": -330
    },
    "id": "R4mS-SAF4QSA"
   },
   "outputs": [],
   "source": [
    "def print_tree(node, level):\n",
    "    if node.answer != \"\":\n",
    "        print(empty(level), node.answer)\n",
    "        return\n",
    "    print(empty(level), node.attribute)\n",
    "    \n",
    "    for value, n in node.children:\n",
    "        print(empty(level + 1), value)\n",
    "        print_tree(n, level + 2)"
   ]
  },
  {
   "cell_type": "code",
   "execution_count": 9,
   "metadata": {
    "executionInfo": {
     "elapsed": 16,
     "status": "ok",
     "timestamp": 1643093825303,
     "user": {
      "displayName": "GURURAJ K L",
      "photoUrl": "https://lh3.googleusercontent.com/a-/AOh14GgPl8AGtnL7ThgsWMfI1-6xNp2THNU6f4EpsU77=s64",
      "userId": "08915021865118226802"
     },
     "user_tz": -330
    },
    "id": "5KCDwSDO4V-B"
   },
   "outputs": [],
   "source": [
    "def read_data(filename):\n",
    "    with open(filename, 'r') as csvfile:\n",
    "        datareader = csv.reader(csvfile, delimiter = ',')\n",
    "        headers = next(datareader)\n",
    "        metadata = []\n",
    "        traindata = []\n",
    "        for name in headers:\n",
    "            metadata.append(name)\n",
    "        for row in datareader:\n",
    "            traindata.append(row)\n",
    "    return(metadata, traindata)"
   ]
  },
  {
   "cell_type": "code",
   "execution_count": 11,
   "metadata": {
    "colab": {
     "base_uri": "https://localhost:8080/",
     "height": 0
    },
    "executionInfo": {
     "elapsed": 16,
     "status": "ok",
     "timestamp": 1643093825305,
     "user": {
      "displayName": "GURURAJ K L",
      "photoUrl": "https://lh3.googleusercontent.com/a-/AOh14GgPl8AGtnL7ThgsWMfI1-6xNp2THNU6f4EpsU77=s64",
      "userId": "08915021865118226802"
     },
     "user_tz": -330
    },
    "id": "9OdfV3ns4adZ",
    "outputId": "ac4c1297-8e1c-4a76-b10a-baea90b742d4"
   },
   "outputs": [
    {
     "name": "stdout",
     "output_type": "stream",
     "text": [
      " humidity\n",
      " high\n",
      " outlook\n",
      " b'overcast'\n",
      " b'yes'\n",
      " b'rain'\n",
      " b'no'\n",
      " b'sunny'\n",
      " b'no'\n",
      " normal\n",
      " wind\n",
      " b'strong'\n",
      " outlook\n",
      " b'overcast'\n",
      " b'yes'\n",
      " b'rain'\n",
      " b'no'\n",
      " b'sunny'\n",
      " b'yes'\n",
      " b'weak'\n",
      " b'yes'\n",
      " strong\n",
      " b'no'\n",
      " weak\n",
      " b'yes'\n"
     ]
    }
   ],
   "source": [
    "metadata, traindata = read_data(\"dataset4.csv\")\n",
    "data = np.array(traindata)\n",
    "node = create(data,metadata)\n",
    "print_tree(node, 0)"
   ]
  },
  {
   "cell_type": "code",
   "execution_count": null,
   "metadata": {},
   "outputs": [],
   "source": []
  }
 ],
 "metadata": {
  "colab": {
   "authorship_tag": "ABX9TyM5Uj7Ry2QDuzz2Pd+MoL5K",
   "collapsed_sections": [],
   "mount_file_id": "16adpHgxguQ18nsUYDZPJtoouisPSCY82",
   "name": "Program 4.ipynb",
   "provenance": []
  },
  "kernelspec": {
   "display_name": "Python 3 (ipykernel)",
   "language": "python",
   "name": "python3"
  },
  "language_info": {
   "codemirror_mode": {
    "name": "ipython",
    "version": 3
   },
   "file_extension": ".py",
   "mimetype": "text/x-python",
   "name": "python",
   "nbconvert_exporter": "python",
   "pygments_lexer": "ipython3",
   "version": "3.9.7"
  }
 },
 "nbformat": 4,
 "nbformat_minor": 1
}
