{
 "cells": [
  {
   "cell_type": "markdown",
   "metadata": {
    "id": "xV0BlsjxjOxy"
   },
   "source": [
    "**3. For a given set of training data examples stored in a *.CSV* file, implement and demonstrate the Candidate-Elimination algorithm to output a description of the set of all hypotheses consistent with the training examples.**"
   ]
  },
  {
   "cell_type": "code",
   "execution_count": 5,
   "metadata": {
    "executionInfo": {
     "elapsed": 6,
     "status": "ok",
     "timestamp": 1642851822777,
     "user": {
      "displayName": "GURURAJ K L",
      "photoUrl": "https://lh3.googleusercontent.com/a-/AOh14GgPl8AGtnL7ThgsWMfI1-6xNp2THNU6f4EpsU77=s64",
      "userId": "08915021865118226802"
     },
     "user_tz": -330
    },
    "id": "gs2WT6mHaoea"
   },
   "outputs": [],
   "source": [
    "import numpy as np\n",
    "import pandas as pd"
   ]
  },
  {
   "cell_type": "code",
   "execution_count": 6,
   "metadata": {
    "executionInfo": {
     "elapsed": 4,
     "status": "ok",
     "timestamp": 1642851824302,
     "user": {
      "displayName": "GURURAJ K L",
      "photoUrl": "https://lh3.googleusercontent.com/a-/AOh14GgPl8AGtnL7ThgsWMfI1-6xNp2THNU6f4EpsU77=s64",
      "userId": "08915021865118226802"
     },
     "user_tz": -330
    },
    "id": "t0ffYdDbcWTe"
   },
   "outputs": [],
   "source": [
    "data = pd.DataFrame(data = pd.read_csv('/content/drive/MyDrive/AIML Lab/Pg3DataSet.csv'))\n",
    "concepts = np.array(data.iloc[:,0:-1])\n",
    "target = np.array(data.iloc[:,-1])"
   ]
  },
  {
   "cell_type": "code",
   "execution_count": 8,
   "metadata": {
    "executionInfo": {
     "elapsed": 418,
     "status": "ok",
     "timestamp": 1642851831681,
     "user": {
      "displayName": "GURURAJ K L",
      "photoUrl": "https://lh3.googleusercontent.com/a-/AOh14GgPl8AGtnL7ThgsWMfI1-6xNp2THNU6f4EpsU77=s64",
      "userId": "08915021865118226802"
     },
     "user_tz": -330
    },
    "id": "woYRbt6HdAa1"
   },
   "outputs": [],
   "source": [
    "def learn(concepts,target):\n",
    "    specific_h = concepts[0].copy()\n",
    "    print(\"initialization of specific_h and general_h\")\n",
    "    print(specific_h)\n",
    "    general_h = [[\"?\" for i in range(len(specific_h))] for i in range(len(specific_h))]\n",
    "    print(general_h)\n",
    "    for i,h in enumerate(concepts):\n",
    "        if target[i] == \"yes\":\n",
    "            for x in range(len(specific_h)):\n",
    "                if h[x] != specific_h[x]:\n",
    "                    specific_h[x] = '?'\n",
    "                    general_h[x][x] = '?'\n",
    "        if target[i] == \"no\":\n",
    "            for x in range(len(specific_h)):\n",
    "                if h[x] != specific_h[x]:\n",
    "                    general_h[x][x] = specific_h[x]\n",
    "                else:\n",
    "                    general_h[x][x] = '?'\n",
    "    print(\"steps of candidate elimination algorithm\",i+1)\n",
    "    print(\"specific_h\",i+1,\"\\n\")\n",
    "    print(specific_h)\n",
    "    print(\"general_h\",i+1,\"\\n\")\n",
    "    print(general_h)\n",
    "    \n",
    "    indices = [i for i, val in enumerate(general_h) if val == ['?','?','?','?','?','?']]\n",
    "    for i in indices:\n",
    "        general_h.remove(['?','?','?','?','?','?'])\n",
    "    return specific_h,general_h "
   ]
  },
  {
   "cell_type": "code",
   "execution_count": 9,
   "metadata": {
    "colab": {
     "base_uri": "https://localhost:8080/"
    },
    "executionInfo": {
     "elapsed": 417,
     "status": "ok",
     "timestamp": 1642851836186,
     "user": {
      "displayName": "GURURAJ K L",
      "photoUrl": "https://lh3.googleusercontent.com/a-/AOh14GgPl8AGtnL7ThgsWMfI1-6xNp2THNU6f4EpsU77=s64",
      "userId": "08915021865118226802"
     },
     "user_tz": -330
    },
    "id": "NJh6n2OPdRJZ",
    "outputId": "a7a3fe53-0d53-4d8a-bc4a-4c86bda54ad7"
   },
   "outputs": [
    {
     "name": "stdout",
     "output_type": "stream",
     "text": [
      "initialization of specific_h and general_h\n",
      "['sunny' 'warm' 'high' 'strong' 'warm' 'same']\n",
      "[['?', '?', '?', '?', '?', '?'], ['?', '?', '?', '?', '?', '?'], ['?', '?', '?', '?', '?', '?'], ['?', '?', '?', '?', '?', '?'], ['?', '?', '?', '?', '?', '?'], ['?', '?', '?', '?', '?', '?']]\n",
      "steps of candidate elimination algorithm 3\n",
      "specific_h 3 \n",
      "\n",
      "['sunny' 'warm' 'high' 'strong' '?' '?']\n",
      "general_h 3 \n",
      "\n",
      "[['sunny', '?', '?', '?', '?', '?'], ['?', 'warm', '?', '?', '?', '?'], ['?', '?', '?', '?', '?', '?'], ['?', '?', '?', '?', '?', '?'], ['?', '?', '?', '?', '?', '?'], ['?', '?', '?', '?', '?', '?']]\n",
      "Final specific_h:\n",
      "['sunny' 'warm' 'high' 'strong' '?' '?']\n",
      "Final general_h:\n",
      "[['sunny', '?', '?', '?', '?', '?'], ['?', 'warm', '?', '?', '?', '?']]\n"
     ]
    }
   ],
   "source": [
    "s_final, g_final=learn(concepts,target)\n",
    "print(\"Final specific_h:\", s_final,sep = \"\\n\")\n",
    "print(\"Final general_h:\", g_final,sep = \"\\n\")"
   ]
  }
 ],
 "metadata": {
  "colab": {
   "authorship_tag": "ABX9TyMt1IHiL6s43gRPkm0V5iy7",
   "collapsed_sections": [],
   "mount_file_id": "1iBMCG21m4Sy_hmw_i1ogMMe3EtdeauNH",
   "name": "Program 3.ipynb",
   "provenance": []
  },
  "kernelspec": {
   "display_name": "Python 3 (ipykernel)",
   "language": "python",
   "name": "python3"
  },
  "language_info": {
   "codemirror_mode": {
    "name": "ipython",
    "version": 3
   },
   "file_extension": ".py",
   "mimetype": "text/x-python",
   "name": "python",
   "nbconvert_exporter": "python",
   "pygments_lexer": "ipython3",
   "version": "3.9.7"
  }
 },
 "nbformat": 4,
 "nbformat_minor": 1
}
